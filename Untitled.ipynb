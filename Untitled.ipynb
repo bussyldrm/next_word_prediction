{
 "cells": [
  {
   "cell_type": "code",
   "execution_count": 4,
   "id": "bacbcce5",
   "metadata": {},
   "outputs": [],
   "source": [
    "import numpy as np\n",
    "import tensorflow as tf\n",
    "from tensorflow.keras.preprocessing.text import Tokenizer\n",
    "from tensorflow.keras.preprocessing.sequence import pad_sequences\n",
    "from tensorflow.keras.models import Sequential\n",
    "from tensorflow.keras.layers import Embedding, LSTM, Dense\n",
    "\n",
    "\n"
   ]
  },
  {
   "cell_type": "code",
   "execution_count": 11,
   "id": "d57f46d6",
   "metadata": {},
   "outputs": [],
   "source": [
    "mytext =\"\"\"\" Ben hasta bir adamım...\n",
    "\n",
    "Gösterişsiz, içi hınçla dolu bir adamım ben.\n",
    "\n",
    "Sanıyorum, karaciğerimden hastayım.\n",
    "\n",
    "Doğrusunu isterseniz, ne hastalığımdan anladığım var ne de neremin ağrıdığını tam olarak biliyorum.\n",
    "\n",
    "Tıbba, hekimlere saygı duymakla birlikte, şimdiye dek tedavi olmadığım gibi, bundan sonra da böyle bir şey düşünmüyorum. \n",
    "\n",
    "Siz bunu anlayamazsınız.\n",
    "\n",
    "Ama ne ziyanı var, ben anlıyorum ya.\n",
    "Bu huysuzluğumla kime kötülük edeceğimi açıklamak elimde değil, bunu ben de bilmiyorum.\n",
    "\n",
    "Bildiğim bir şey varsa, o da, tedaviden kaçmakla hekimlere bir “zarar veremeyeceğim”, olsa olsa bütün zararı kendimin çekeceğidir.\n",
    "\n",
    "Yine de hıncımdan tedavi olmuyorum! Karaciğerim ağrıyormuş, varsın daha beter ağrısın.\"\"\""
   ]
  },
  {
   "cell_type": "code",
   "execution_count": 12,
   "id": "cb07830f",
   "metadata": {},
   "outputs": [],
   "source": [
    "mytokenizer = Tokenizer()\n",
    "mytokenizer.fit_on_texts([mytext])\n",
    "total_words = len(mytokenizer.word_index) + 1"
   ]
  },
  {
   "cell_type": "code",
   "execution_count": 13,
   "id": "0f16d1b0",
   "metadata": {},
   "outputs": [
    {
     "data": {
      "text/plain": [
       "{'bir': 1,\n",
       " 'ben': 2,\n",
       " 'ne': 3,\n",
       " 'de': 4,\n",
       " 'adamım': 5,\n",
       " 'var': 6,\n",
       " 'hekimlere': 7,\n",
       " 'tedavi': 8,\n",
       " 'da': 9,\n",
       " 'şey': 10,\n",
       " 'bunu': 11,\n",
       " 'olsa': 12,\n",
       " 'hasta': 13,\n",
       " 'gösterişsiz': 14,\n",
       " 'içi': 15,\n",
       " 'hınçla': 16,\n",
       " 'dolu': 17,\n",
       " 'sanıyorum': 18,\n",
       " 'karaciğerimden': 19,\n",
       " 'hastayım': 20,\n",
       " 'doğrusunu': 21,\n",
       " 'isterseniz': 22,\n",
       " 'hastalığımdan': 23,\n",
       " 'anladığım': 24,\n",
       " 'neremin': 25,\n",
       " 'ağrıdığını': 26,\n",
       " 'tam': 27,\n",
       " 'olarak': 28,\n",
       " 'biliyorum': 29,\n",
       " 'tıbba': 30,\n",
       " 'saygı': 31,\n",
       " 'duymakla': 32,\n",
       " 'birlikte': 33,\n",
       " 'şimdiye': 34,\n",
       " 'dek': 35,\n",
       " 'olmadığım': 36,\n",
       " 'gibi': 37,\n",
       " 'bundan': 38,\n",
       " 'sonra': 39,\n",
       " 'böyle': 40,\n",
       " 'düşünmüyorum': 41,\n",
       " 'siz': 42,\n",
       " 'anlayamazsınız': 43,\n",
       " 'ama': 44,\n",
       " 'ziyanı': 45,\n",
       " 'anlıyorum': 46,\n",
       " 'ya': 47,\n",
       " 'bu': 48,\n",
       " 'huysuzluğumla': 49,\n",
       " 'kime': 50,\n",
       " 'kötülük': 51,\n",
       " 'edeceğimi': 52,\n",
       " 'açıklamak': 53,\n",
       " 'elimde': 54,\n",
       " 'değil': 55,\n",
       " 'bilmiyorum': 56,\n",
       " 'bildiğim': 57,\n",
       " 'varsa': 58,\n",
       " 'o': 59,\n",
       " 'tedaviden': 60,\n",
       " 'kaçmakla': 61,\n",
       " '“zarar': 62,\n",
       " 'veremeyeceğim”': 63,\n",
       " 'bütün': 64,\n",
       " 'zararı': 65,\n",
       " 'kendimin': 66,\n",
       " 'çekeceğidir': 67,\n",
       " 'yine': 68,\n",
       " 'hıncımdan': 69,\n",
       " 'olmuyorum': 70,\n",
       " 'karaciğerim': 71,\n",
       " 'ağrıyormuş': 72,\n",
       " 'varsın': 73,\n",
       " 'daha': 74,\n",
       " 'beter': 75,\n",
       " 'ağrısın': 76}"
      ]
     },
     "execution_count": 13,
     "metadata": {},
     "output_type": "execute_result"
    }
   ],
   "source": [
    "mytokenizer.word_index"
   ]
  },
  {
   "cell_type": "code",
   "execution_count": 15,
   "id": "6f5916df",
   "metadata": {},
   "outputs": [],
   "source": [
    "my_input_sequences = []\n",
    "for line in mytext.split('\\n'):\n",
    "    \n",
    "    token_list = mytokenizer.texts_to_sequences([line])[0]\n",
    "   \n",
    "    for i in range(1, len(token_list)):\n",
    "        my_n_gram_sequence = token_list[:i+1]\n",
    "        \n",
    "        my_input_sequences.append(my_n_gram_sequence)\n",
    "        "
   ]
  },
  {
   "cell_type": "code",
   "execution_count": 16,
   "id": "60e252d1",
   "metadata": {},
   "outputs": [],
   "source": [
    "max_sequence_len = max([len(seq) for seq in my_input_sequences])\n",
    "input_sequences = np.array(pad_sequences(my_input_sequences, maxlen=max_sequence_len, padding='pre'))\n"
   ]
  },
  {
   "cell_type": "code",
   "execution_count": 17,
   "id": "75a61499",
   "metadata": {},
   "outputs": [
    {
     "data": {
      "text/plain": [
       "array([ 0,  0,  0,  0,  0,  0,  0,  0,  0,  0,  0,  0,  0,  0,  0,  2, 13,\n",
       "        1])"
      ]
     },
     "execution_count": 17,
     "metadata": {},
     "output_type": "execute_result"
    }
   ],
   "source": [
    "input_sequences[1]"
   ]
  },
  {
   "cell_type": "code",
   "execution_count": 18,
   "id": "aee62b26",
   "metadata": {},
   "outputs": [],
   "source": [
    "X = input_sequences[:, :-1]\n",
    "y = input_sequences[:, -1]"
   ]
  },
  {
   "cell_type": "code",
   "execution_count": 19,
   "id": "b963f7a6",
   "metadata": {},
   "outputs": [
    {
     "data": {
      "text/plain": [
       "array([ 0,  0,  0,  0,  0,  0,  0,  0,  0,  0,  0,  0,  0,  0,  0,  2, 13])"
      ]
     },
     "execution_count": 19,
     "metadata": {},
     "output_type": "execute_result"
    }
   ],
   "source": [
    "X[1]"
   ]
  },
  {
   "cell_type": "code",
   "execution_count": 20,
   "id": "d2ed7033",
   "metadata": {},
   "outputs": [
    {
     "data": {
      "text/plain": [
       "array([13,  1,  5, 15, 16, 17,  1,  5,  2, 19, 20, 22,  3, 23, 24,  6,  3,\n",
       "        4, 25, 26, 27, 28, 29,  7, 31, 32, 33, 34, 35,  8, 36, 37, 38, 39,\n",
       "        9, 40,  1, 10, 41, 11, 43,  3, 45,  6,  2, 46, 47, 49, 50, 51, 52,\n",
       "       53, 54, 55, 11,  2,  4, 56,  1, 10, 58, 59,  9, 60, 61,  7,  1, 62,\n",
       "       63, 12, 12, 64, 65, 66, 67,  4, 69,  8, 70, 71, 72, 73, 74, 75, 76])"
      ]
     },
     "execution_count": 20,
     "metadata": {},
     "output_type": "execute_result"
    }
   ],
   "source": [
    "y"
   ]
  },
  {
   "cell_type": "code",
   "execution_count": 21,
   "id": "fa325e95",
   "metadata": {},
   "outputs": [],
   "source": [
    "y = np.array(tf.keras.utils.to_categorical(y, num_classes=total_words))"
   ]
  },
  {
   "cell_type": "code",
   "execution_count": 22,
   "id": "f3378b23",
   "metadata": {},
   "outputs": [
    {
     "data": {
      "text/plain": [
       "array([0., 1., 0., 0., 0., 0., 0., 0., 0., 0., 0., 0., 0., 0., 0., 0., 0.,\n",
       "       0., 0., 0., 0., 0., 0., 0., 0., 0., 0., 0., 0., 0., 0., 0., 0., 0.,\n",
       "       0., 0., 0., 0., 0., 0., 0., 0., 0., 0., 0., 0., 0., 0., 0., 0., 0.,\n",
       "       0., 0., 0., 0., 0., 0., 0., 0., 0., 0., 0., 0., 0., 0., 0., 0., 0.,\n",
       "       0., 0., 0., 0., 0., 0., 0., 0., 0.], dtype=float32)"
      ]
     },
     "execution_count": 22,
     "metadata": {},
     "output_type": "execute_result"
    }
   ],
   "source": [
    "y[1]"
   ]
  },
  {
   "cell_type": "code",
   "execution_count": 23,
   "id": "ecf13e5d",
   "metadata": {},
   "outputs": [
    {
     "name": "stdout",
     "output_type": "stream",
     "text": [
      "WARNING:tensorflow:From C:\\ProgramData\\anaconda3\\Lib\\site-packages\\keras\\src\\backend.py:873: The name tf.get_default_graph is deprecated. Please use tf.compat.v1.get_default_graph instead.\n",
      "\n",
      "Model: \"sequential\"\n",
      "_________________________________________________________________\n",
      " Layer (type)                Output Shape              Param #   \n",
      "=================================================================\n",
      " embedding (Embedding)       (None, 17, 100)           7700      \n",
      "                                                                 \n",
      " lstm (LSTM)                 (None, 150)               150600    \n",
      "                                                                 \n",
      " dense (Dense)               (None, 77)                11627     \n",
      "                                                                 \n",
      "=================================================================\n",
      "Total params: 169927 (663.78 KB)\n",
      "Trainable params: 169927 (663.78 KB)\n",
      "Non-trainable params: 0 (0.00 Byte)\n",
      "_________________________________________________________________\n",
      "None\n"
     ]
    }
   ],
   "source": [
    "model = Sequential()\n",
    "model.add(Embedding(total_words, 100, input_length=max_sequence_len-1))\n",
    "model.add(LSTM(150))\n",
    "model.add(Dense(total_words, activation='softmax'))\n",
    "print(model.summary())"
   ]
  },
  {
   "cell_type": "code",
   "execution_count": 24,
   "id": "6d384b24",
   "metadata": {},
   "outputs": [
    {
     "name": "stdout",
     "output_type": "stream",
     "text": [
      "WARNING:tensorflow:From C:\\ProgramData\\anaconda3\\Lib\\site-packages\\keras\\src\\optimizers\\__init__.py:309: The name tf.train.Optimizer is deprecated. Please use tf.compat.v1.train.Optimizer instead.\n",
      "\n",
      "Epoch 1/100\n",
      "WARNING:tensorflow:From C:\\ProgramData\\anaconda3\\Lib\\site-packages\\keras\\src\\utils\\tf_utils.py:492: The name tf.ragged.RaggedTensorValue is deprecated. Please use tf.compat.v1.ragged.RaggedTensorValue instead.\n",
      "\n",
      "WARNING:tensorflow:From C:\\ProgramData\\anaconda3\\Lib\\site-packages\\keras\\src\\engine\\base_layer_utils.py:384: The name tf.executing_eagerly_outside_functions is deprecated. Please use tf.compat.v1.executing_eagerly_outside_functions instead.\n",
      "\n",
      "3/3 [==============================] - 3s 29ms/step - loss: 4.3461 - accuracy: 0.0000e+00\n",
      "Epoch 2/100\n",
      "3/3 [==============================] - 0s 24ms/step - loss: 4.3303 - accuracy: 0.0706\n",
      "Epoch 3/100\n",
      "3/3 [==============================] - 0s 28ms/step - loss: 4.3163 - accuracy: 0.0706\n",
      "Epoch 4/100\n",
      "3/3 [==============================] - 0s 28ms/step - loss: 4.2921 - accuracy: 0.0588\n",
      "Epoch 5/100\n",
      "3/3 [==============================] - 0s 28ms/step - loss: 4.2484 - accuracy: 0.0588\n",
      "Epoch 6/100\n",
      "3/3 [==============================] - 0s 24ms/step - loss: 4.1582 - accuracy: 0.0588\n",
      "Epoch 7/100\n",
      "3/3 [==============================] - 0s 24ms/step - loss: 4.1630 - accuracy: 0.0588\n",
      "Epoch 8/100\n",
      "3/3 [==============================] - 0s 24ms/step - loss: 4.0956 - accuracy: 0.0588\n",
      "Epoch 9/100\n",
      "3/3 [==============================] - 0s 24ms/step - loss: 4.0742 - accuracy: 0.0588\n",
      "Epoch 10/100\n",
      "3/3 [==============================] - 0s 24ms/step - loss: 4.0630 - accuracy: 0.0706\n",
      "Epoch 11/100\n",
      "3/3 [==============================] - 0s 28ms/step - loss: 4.0262 - accuracy: 0.0706\n",
      "Epoch 12/100\n",
      "3/3 [==============================] - 0s 24ms/step - loss: 3.9759 - accuracy: 0.0706\n",
      "Epoch 13/100\n",
      "3/3 [==============================] - 0s 24ms/step - loss: 3.9418 - accuracy: 0.0706\n",
      "Epoch 14/100\n",
      "3/3 [==============================] - 0s 28ms/step - loss: 3.8860 - accuracy: 0.0824\n",
      "Epoch 15/100\n",
      "3/3 [==============================] - 0s 28ms/step - loss: 3.8333 - accuracy: 0.0941\n",
      "Epoch 16/100\n",
      "3/3 [==============================] - 0s 24ms/step - loss: 3.7648 - accuracy: 0.1412\n",
      "Epoch 17/100\n",
      "3/3 [==============================] - 0s 20ms/step - loss: 3.6922 - accuracy: 0.1529\n",
      "Epoch 18/100\n",
      "3/3 [==============================] - 0s 24ms/step - loss: 3.6316 - accuracy: 0.1176\n",
      "Epoch 19/100\n",
      "3/3 [==============================] - 0s 24ms/step - loss: 3.5425 - accuracy: 0.1176\n",
      "Epoch 20/100\n",
      "3/3 [==============================] - 0s 25ms/step - loss: 3.4595 - accuracy: 0.1059\n",
      "Epoch 21/100\n",
      "3/3 [==============================] - 0s 24ms/step - loss: 3.3537 - accuracy: 0.1412\n",
      "Epoch 22/100\n",
      "3/3 [==============================] - 0s 28ms/step - loss: 3.2638 - accuracy: 0.1647\n",
      "Epoch 23/100\n",
      "3/3 [==============================] - 0s 29ms/step - loss: 3.2109 - accuracy: 0.1529\n",
      "Epoch 24/100\n",
      "3/3 [==============================] - 0s 24ms/step - loss: 3.0801 - accuracy: 0.1765\n",
      "Epoch 25/100\n",
      "3/3 [==============================] - 0s 25ms/step - loss: 2.9993 - accuracy: 0.1647\n",
      "Epoch 26/100\n",
      "3/3 [==============================] - 0s 29ms/step - loss: 2.9227 - accuracy: 0.2000\n",
      "Epoch 27/100\n",
      "3/3 [==============================] - 0s 29ms/step - loss: 2.8266 - accuracy: 0.2353\n",
      "Epoch 28/100\n",
      "3/3 [==============================] - 0s 29ms/step - loss: 2.7382 - accuracy: 0.2824\n",
      "Epoch 29/100\n",
      "3/3 [==============================] - 0s 29ms/step - loss: 2.6938 - accuracy: 0.3059\n",
      "Epoch 30/100\n",
      "3/3 [==============================] - 0s 21ms/step - loss: 2.5780 - accuracy: 0.3059\n",
      "Epoch 31/100\n",
      "3/3 [==============================] - 0s 21ms/step - loss: 2.4905 - accuracy: 0.3882\n",
      "Epoch 32/100\n",
      "3/3 [==============================] - 0s 21ms/step - loss: 2.4161 - accuracy: 0.3882\n",
      "Epoch 33/100\n",
      "3/3 [==============================] - 0s 25ms/step - loss: 2.3254 - accuracy: 0.4353\n",
      "Epoch 34/100\n",
      "3/3 [==============================] - 0s 24ms/step - loss: 2.2643 - accuracy: 0.4588\n",
      "Epoch 35/100\n",
      "3/3 [==============================] - 0s 20ms/step - loss: 2.2083 - accuracy: 0.4588\n",
      "Epoch 36/100\n",
      "3/3 [==============================] - 0s 24ms/step - loss: 2.1202 - accuracy: 0.4588\n",
      "Epoch 37/100\n",
      "3/3 [==============================] - 0s 24ms/step - loss: 2.0858 - accuracy: 0.4941\n",
      "Epoch 38/100\n",
      "3/3 [==============================] - 0s 25ms/step - loss: 2.0125 - accuracy: 0.5529\n",
      "Epoch 39/100\n",
      "3/3 [==============================] - 0s 24ms/step - loss: 1.9670 - accuracy: 0.5529\n",
      "Epoch 40/100\n",
      "3/3 [==============================] - 0s 25ms/step - loss: 1.9252 - accuracy: 0.5529\n",
      "Epoch 41/100\n",
      "3/3 [==============================] - 0s 24ms/step - loss: 1.8578 - accuracy: 0.5882\n",
      "Epoch 42/100\n",
      "3/3 [==============================] - 0s 24ms/step - loss: 1.8232 - accuracy: 0.6118\n",
      "Epoch 43/100\n",
      "3/3 [==============================] - 0s 24ms/step - loss: 1.7610 - accuracy: 0.5882\n",
      "Epoch 44/100\n",
      "3/3 [==============================] - 0s 24ms/step - loss: 1.7160 - accuracy: 0.6353\n",
      "Epoch 45/100\n",
      "3/3 [==============================] - 0s 20ms/step - loss: 1.6842 - accuracy: 0.6471\n",
      "Epoch 46/100\n",
      "3/3 [==============================] - 0s 25ms/step - loss: 1.6285 - accuracy: 0.6824\n",
      "Epoch 47/100\n",
      "3/3 [==============================] - 0s 29ms/step - loss: 1.5996 - accuracy: 0.7294\n",
      "Epoch 48/100\n",
      "3/3 [==============================] - 0s 24ms/step - loss: 1.5552 - accuracy: 0.6824\n",
      "Epoch 49/100\n",
      "3/3 [==============================] - 0s 24ms/step - loss: 1.5533 - accuracy: 0.6941\n",
      "Epoch 50/100\n",
      "3/3 [==============================] - 0s 25ms/step - loss: 1.4786 - accuracy: 0.7294\n",
      "Epoch 51/100\n",
      "3/3 [==============================] - 0s 24ms/step - loss: 1.4474 - accuracy: 0.7059\n",
      "Epoch 52/100\n",
      "3/3 [==============================] - 0s 24ms/step - loss: 1.4041 - accuracy: 0.7529\n",
      "Epoch 53/100\n",
      "3/3 [==============================] - 0s 28ms/step - loss: 1.3821 - accuracy: 0.7647\n",
      "Epoch 54/100\n",
      "3/3 [==============================] - 0s 24ms/step - loss: 1.3517 - accuracy: 0.7647\n",
      "Epoch 55/100\n",
      "3/3 [==============================] - 0s 28ms/step - loss: 1.3083 - accuracy: 0.7529\n",
      "Epoch 56/100\n",
      "3/3 [==============================] - 0s 24ms/step - loss: 1.2899 - accuracy: 0.8000\n",
      "Epoch 57/100\n",
      "3/3 [==============================] - 0s 28ms/step - loss: 1.2533 - accuracy: 0.8118\n",
      "Epoch 58/100\n",
      "3/3 [==============================] - 0s 24ms/step - loss: 1.2164 - accuracy: 0.7882\n",
      "Epoch 59/100\n",
      "3/3 [==============================] - 0s 28ms/step - loss: 1.1876 - accuracy: 0.8235\n",
      "Epoch 60/100\n",
      "3/3 [==============================] - 0s 24ms/step - loss: 1.1747 - accuracy: 0.7882\n",
      "Epoch 61/100\n",
      "3/3 [==============================] - 0s 24ms/step - loss: 1.1513 - accuracy: 0.8353\n",
      "Epoch 62/100\n",
      "3/3 [==============================] - 0s 33ms/step - loss: 1.1133 - accuracy: 0.8471\n",
      "Epoch 63/100\n",
      "3/3 [==============================] - 0s 28ms/step - loss: 1.0944 - accuracy: 0.8235\n",
      "Epoch 64/100\n",
      "3/3 [==============================] - 0s 25ms/step - loss: 1.0548 - accuracy: 0.8588\n",
      "Epoch 65/100\n",
      "3/3 [==============================] - 0s 24ms/step - loss: 1.0427 - accuracy: 0.8353\n",
      "Epoch 66/100\n",
      "3/3 [==============================] - 0s 25ms/step - loss: 1.0044 - accuracy: 0.8588\n",
      "Epoch 67/100\n",
      "3/3 [==============================] - 0s 24ms/step - loss: 0.9951 - accuracy: 0.8588\n",
      "Epoch 68/100\n",
      "3/3 [==============================] - 0s 25ms/step - loss: 0.9695 - accuracy: 0.8824\n",
      "Epoch 69/100\n",
      "3/3 [==============================] - 0s 24ms/step - loss: 0.9542 - accuracy: 0.8706\n",
      "Epoch 70/100\n",
      "3/3 [==============================] - 0s 24ms/step - loss: 0.9239 - accuracy: 0.8706\n",
      "Epoch 71/100\n",
      "3/3 [==============================] - 0s 28ms/step - loss: 0.9045 - accuracy: 0.9294\n",
      "Epoch 72/100\n",
      "3/3 [==============================] - 0s 24ms/step - loss: 0.8793 - accuracy: 0.9176\n",
      "Epoch 73/100\n",
      "3/3 [==============================] - 0s 24ms/step - loss: 0.8614 - accuracy: 0.9294\n",
      "Epoch 74/100\n",
      "3/3 [==============================] - 0s 24ms/step - loss: 0.8346 - accuracy: 0.9294\n",
      "Epoch 75/100\n",
      "3/3 [==============================] - 0s 24ms/step - loss: 0.8203 - accuracy: 0.9294\n",
      "Epoch 76/100\n",
      "3/3 [==============================] - 0s 31ms/step - loss: 0.7955 - accuracy: 0.9412\n",
      "Epoch 77/100\n"
     ]
    },
    {
     "name": "stdout",
     "output_type": "stream",
     "text": [
      "3/3 [==============================] - 0s 28ms/step - loss: 0.7766 - accuracy: 0.9412\n",
      "Epoch 78/100\n",
      "3/3 [==============================] - 0s 28ms/step - loss: 0.7578 - accuracy: 0.9529\n",
      "Epoch 79/100\n",
      "3/3 [==============================] - 0s 25ms/step - loss: 0.7387 - accuracy: 0.9529\n",
      "Epoch 80/100\n",
      "3/3 [==============================] - 0s 29ms/step - loss: 0.7245 - accuracy: 0.9412\n",
      "Epoch 81/100\n",
      "3/3 [==============================] - 0s 29ms/step - loss: 0.7043 - accuracy: 0.9529\n",
      "Epoch 82/100\n",
      "3/3 [==============================] - 0s 29ms/step - loss: 0.6912 - accuracy: 0.9765\n",
      "Epoch 83/100\n",
      "3/3 [==============================] - 0s 25ms/step - loss: 0.6734 - accuracy: 0.9882\n",
      "Epoch 84/100\n",
      "3/3 [==============================] - 0s 25ms/step - loss: 0.6589 - accuracy: 0.9882\n",
      "Epoch 85/100\n",
      "3/3 [==============================] - 0s 29ms/step - loss: 0.6448 - accuracy: 0.9882\n",
      "Epoch 86/100\n",
      "3/3 [==============================] - 0s 29ms/step - loss: 0.6347 - accuracy: 0.9882\n",
      "Epoch 87/100\n",
      "3/3 [==============================] - 0s 29ms/step - loss: 0.6148 - accuracy: 0.9765\n",
      "Epoch 88/100\n",
      "3/3 [==============================] - 0s 29ms/step - loss: 0.6164 - accuracy: 0.9765\n",
      "Epoch 89/100\n",
      "3/3 [==============================] - 0s 25ms/step - loss: 0.6174 - accuracy: 0.9882\n",
      "Epoch 90/100\n",
      "3/3 [==============================] - 0s 25ms/step - loss: 0.5870 - accuracy: 0.9882\n",
      "Epoch 91/100\n",
      "3/3 [==============================] - 0s 29ms/step - loss: 0.5837 - accuracy: 0.9882\n",
      "Epoch 92/100\n",
      "3/3 [==============================] - 0s 25ms/step - loss: 0.5601 - accuracy: 0.9882\n",
      "Epoch 93/100\n",
      "3/3 [==============================] - 0s 25ms/step - loss: 0.5513 - accuracy: 1.0000\n",
      "Epoch 94/100\n",
      "3/3 [==============================] - 0s 24ms/step - loss: 0.5396 - accuracy: 1.0000\n",
      "Epoch 95/100\n",
      "3/3 [==============================] - 0s 28ms/step - loss: 0.5209 - accuracy: 1.0000\n",
      "Epoch 96/100\n",
      "3/3 [==============================] - 0s 24ms/step - loss: 0.5117 - accuracy: 1.0000\n",
      "Epoch 97/100\n",
      "3/3 [==============================] - 0s 24ms/step - loss: 0.4979 - accuracy: 1.0000\n",
      "Epoch 98/100\n",
      "3/3 [==============================] - 0s 24ms/step - loss: 0.4838 - accuracy: 1.0000\n",
      "Epoch 99/100\n",
      "3/3 [==============================] - 0s 24ms/step - loss: 0.4653 - accuracy: 1.0000\n",
      "Epoch 100/100\n",
      "3/3 [==============================] - 0s 23ms/step - loss: 0.4547 - accuracy: 1.0000\n"
     ]
    },
    {
     "data": {
      "text/plain": [
       "<keras.src.callbacks.History at 0x19ea6df4e10>"
      ]
     },
     "execution_count": 24,
     "metadata": {},
     "output_type": "execute_result"
    }
   ],
   "source": [
    "model.compile(loss='categorical_crossentropy', optimizer='adam', metrics=['accuracy'])\n",
    "model.fit(X, y, epochs=100, verbose=1)"
   ]
  },
  {
   "cell_type": "code",
   "execution_count": 30,
   "id": "c117636b",
   "metadata": {},
   "outputs": [
    {
     "name": "stdout",
     "output_type": "stream",
     "text": [
      "[68, 4]\n",
      "1/1 [==============================] - 0s 24ms/step\n",
      "[68, 4, 69]\n",
      "1/1 [==============================] - 0s 34ms/step\n",
      "[68, 4, 69, 8]\n",
      "1/1 [==============================] - 0s 33ms/step\n",
      "[68, 4, 69, 8, 70]\n",
      "1/1 [==============================] - 0s 32ms/step\n",
      "[68, 4, 69, 8, 70, 71]\n",
      "1/1 [==============================] - 0s 24ms/step\n",
      "[68, 4, 69, 8, 70, 71, 72]\n",
      "1/1 [==============================] - 0s 33ms/step\n",
      "[68, 4, 69, 8, 70, 71, 72, 73]\n",
      "1/1 [==============================] - 0s 33ms/step\n",
      "[68, 4, 69, 8, 70, 71, 72, 73, 74]\n",
      "1/1 [==============================] - 0s 24ms/step\n",
      "Yine de hıncımdan tedavi olmuyorum karaciğerim ağrıyormuş varsın daha beter\n"
     ]
    }
   ],
   "source": [
    "input_text = \"Yine de\"\n",
    "predict_next_words= 8\n",
    "\n",
    "for _ in range(predict_next_words):\n",
    "    token_list = mytokenizer.texts_to_sequences([input_text])[0]\n",
    "    print(token_list)\n",
    "    token_list = pad_sequences([token_list], maxlen=max_sequence_len-1, padding='pre')\n",
    "    predicted = np.argmax(model.predict(token_list), axis=-1)\n",
    "    output_word = \"\"\n",
    "    for word, index in mytokenizer.word_index.items():\n",
    "        if index == predicted:\n",
    "            output_word = word\n",
    "            break\n",
    "    input_text += \" \" + output_word\n",
    "\n",
    "print(input_text)"
   ]
  },
  {
   "cell_type": "code",
   "execution_count": null,
   "id": "2ed613f8",
   "metadata": {},
   "outputs": [],
   "source": []
  },
  {
   "cell_type": "code",
   "execution_count": null,
   "id": "8065acf9",
   "metadata": {},
   "outputs": [],
   "source": []
  }
 ],
 "metadata": {
  "kernelspec": {
   "display_name": "Python 3 (ipykernel)",
   "language": "python",
   "name": "python3"
  },
  "language_info": {
   "codemirror_mode": {
    "name": "ipython",
    "version": 3
   },
   "file_extension": ".py",
   "mimetype": "text/x-python",
   "name": "python",
   "nbconvert_exporter": "python",
   "pygments_lexer": "ipython3",
   "version": "3.11.5"
  }
 },
 "nbformat": 4,
 "nbformat_minor": 5
}
